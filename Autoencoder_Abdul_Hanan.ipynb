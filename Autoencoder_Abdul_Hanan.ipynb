{
  "nbformat": 4,
  "nbformat_minor": 0,
  "metadata": {
    "colab": {
      "name": "Autoencoder Abdul Hanan.ipynb",
      "provenance": [],
      "collapsed_sections": []
    },
    "kernelspec": {
      "name": "python3",
      "display_name": "Python 3"
    },
    "accelerator": "GPU"
  },
  "cells": [
    {
      "cell_type": "markdown",
      "metadata": {
        "id": "2yzaB-HZVBs7"
      },
      "source": [
        "**Abdul Hanan**\n",
        "**i170131**\n",
        "**Data Mining Lab Task 9**\n",
        "\n",
        "Download dataset from http://yann.lecun.com/exdb/mnist/"
      ]
    },
    {
      "cell_type": "code",
      "metadata": {
        "id": "hy-bCWDqyU1D"
      },
      "source": [
        "import os\n",
        "os.environ[\"CUDA_DEVICE_ORDER\"]=\"PCI_BUS_ID\"\n",
        "os.environ[\"CUDA_VISIBLE_DEVICES\"]=\"0\" #model will be trained on GPU 0"
      ],
      "execution_count": null,
      "outputs": []
    },
    {
      "cell_type": "code",
      "metadata": {
        "id": "pphnixtly_9g"
      },
      "source": [
        "import keras\n",
        "from matplotlib import pyplot as plt\n",
        "import numpy as np\n",
        "import gzip\n",
        "%matplotlib inline\n",
        "from keras.models import Model\n",
        "from keras.optimizers import RMSprop\n",
        "from keras.layers import Input,Dense,Flatten,Dropout,merge,Reshape,Conv2D,MaxPooling2D,UpSampling2D,Conv2DTranspose\n",
        "from keras.layers.normalization import BatchNormalization\n",
        "from keras.models import Model,Sequential\n",
        "from keras.callbacks import ModelCheckpoint\n",
        "from keras.optimizers import Adadelta, RMSprop,SGD,Adam\n",
        "from keras import regularizers\n",
        "from keras import backend as K\n",
        "from keras.utils import to_categorical"
      ],
      "execution_count": null,
      "outputs": []
    },
    {
      "cell_type": "code",
      "metadata": {
        "id": "fwN_MmVRzrVk"
      },
      "source": [
        "def extract_data(filename, num_images):\n",
        "    with gzip.open(filename) as bytestream:\n",
        "        bytestream.read(16)\n",
        "        buf = bytestream.read(28 * 28 * num_images)\n",
        "        data = np.frombuffer(buf, dtype=np.uint8).astype(np.float32)\n",
        "        data = data.reshape(num_images, 28,28)\n",
        "        return data"
      ],
      "execution_count": null,
      "outputs": []
    },
    {
      "cell_type": "code",
      "metadata": {
        "id": "Q_8BA2dYz_QT"
      },
      "source": [
        "train_data = extract_data('train-images-idx3-ubyte.gz', 60000)\n",
        "test_data = extract_data('t10k-images-idx3-ubyte.gz', 10000)"
      ],
      "execution_count": null,
      "outputs": []
    },
    {
      "cell_type": "code",
      "metadata": {
        "id": "Y4I6GBTy0T3J"
      },
      "source": [
        "def extract_labels(filename, num_images):\n",
        "    with gzip.open(filename) as bytestream:\n",
        "        bytestream.read(8)\n",
        "        buf = bytestream.read(1 * num_images)\n",
        "        labels = np.frombuffer(buf, dtype=np.uint8).astype(np.int64)\n",
        "        return labels"
      ],
      "execution_count": null,
      "outputs": []
    },
    {
      "cell_type": "code",
      "metadata": {
        "id": "MetTYkHb0Uwo"
      },
      "source": [
        "train_labels = extract_labels('train-labels-idx1-ubyte.gz',60000)\n",
        "test_labels = extract_labels('t10k-labels-idx1-ubyte.gz',10000)"
      ],
      "execution_count": null,
      "outputs": []
    },
    {
      "cell_type": "code",
      "metadata": {
        "id": "bAj7G0pp3hp3",
        "colab": {
          "base_uri": "https://localhost:8080/",
          "height": 54
        },
        "outputId": "5d44816e-0308-447f-eeab-e81e96e196f6"
      },
      "source": [
        "# Shapes of training set\n",
        "print(\"Training set (images) shape: {shape}\".format(shape=train_data.shape))\n",
        "\n",
        "# Shapes of test set\n",
        "print(\"Test set (images) shape: {shape}\".format(shape=test_data.shape))"
      ],
      "execution_count": null,
      "outputs": [
        {
          "output_type": "stream",
          "text": [
            "Training set (images) shape: (60000, 28, 28)\n",
            "Test set (images) shape: (10000, 28, 28)\n"
          ],
          "name": "stdout"
        }
      ]
    },
    {
      "cell_type": "code",
      "metadata": {
        "id": "Ewm6cDVi3k4H"
      },
      "source": [
        "label_dict = {\n",
        " 0: 'A',\n",
        " 1: 'B',\n",
        " 2: 'C',\n",
        " 3: 'D',\n",
        " 4: 'E',\n",
        " 5: 'F',\n",
        " 6: 'G',\n",
        " 7: 'H',\n",
        " 8: 'I',\n",
        " 9: 'J',\n",
        "}"
      ],
      "execution_count": null,
      "outputs": []
    },
    {
      "cell_type": "code",
      "metadata": {
        "id": "B7x-JVt93niR",
        "colab": {
          "base_uri": "https://localhost:8080/",
          "height": 209
        },
        "outputId": "419e9bc0-a6c5-4e48-d11f-30e84cf7970d"
      },
      "source": [
        "plt.figure(figsize=[5,5])\n",
        "\n",
        "# Display the first image in training data\n",
        "plt.subplot(121)\n",
        "curr_img = np.reshape(train_data[10], (28,28))\n",
        "curr_lbl = train_labels[10]\n",
        "plt.imshow(curr_img, cmap='gray')\n",
        "plt.title(\"(Label: \" + str(label_dict[curr_lbl]) + \")\")\n",
        "\n",
        "# Display the first image in testing data\n",
        "plt.subplot(122)\n",
        "curr_img = np.reshape(test_data[10], (28,28))\n",
        "curr_lbl = test_labels[10]\n",
        "plt.imshow(curr_img, cmap='gray')\n",
        "plt.title(\"(Label: \" + str(label_dict[curr_lbl]) + \")\")"
      ],
      "execution_count": null,
      "outputs": [
        {
          "output_type": "execute_result",
          "data": {
            "text/plain": [
              "Text(0.5, 1.0, '(Label: A)')"
            ]
          },
          "metadata": {
            "tags": []
          },
          "execution_count": 70
        },
        {
          "output_type": "display_data",
          "data": {
            "image/png": "[encoded data removed]",
            "text/plain": [
              "<Figure size 360x360 with 2 Axes>"
            ]
          },
          "metadata": {
            "tags": [],
            "needs_background": "light"
          }
        }
      ]
    },
    {
      "cell_type": "code",
      "metadata": {
        "id": "EeNHDW3H3ru5",
        "colab": {
          "base_uri": "https://localhost:8080/",
          "height": 35
        },
        "outputId": "d5dfeac5-d5a4-4f5a-aaa2-e6f81171e09d"
      },
      "source": [
        "train_data = train_data.reshape(-1, 28,28, 1)\n",
        "test_data = test_data.reshape(-1, 28,28, 1)\n",
        "train_data.shape, test_data.shape"
      ],
      "execution_count": null,
      "outputs": [
        {
          "output_type": "execute_result",
          "data": {
            "text/plain": [
              "((60000, 28, 28, 1), (10000, 28, 28, 1))"
            ]
          },
          "metadata": {
            "tags": []
          },
          "execution_count": 71
        }
      ]
    },
    {
      "cell_type": "code",
      "metadata": {
        "id": "jAgHg_xN3uvP",
        "colab": {
          "base_uri": "https://localhost:8080/",
          "height": 35
        },
        "outputId": "7b552385-c3d5-48a3-84c4-0187fc97a82d"
      },
      "source": [
        "train_data.dtype, test_data.dtype"
      ],
      "execution_count": null,
      "outputs": [
        {
          "output_type": "execute_result",
          "data": {
            "text/plain": [
              "(dtype('float32'), dtype('float32'))"
            ]
          },
          "metadata": {
            "tags": []
          },
          "execution_count": 72
        }
      ]
    },
    {
      "cell_type": "code",
      "metadata": {
        "id": "POhWgHCX3xAU",
        "colab": {
          "base_uri": "https://localhost:8080/",
          "height": 35
        },
        "outputId": "f940e72a-1a98-450f-de05-bbec15f49c81"
      },
      "source": [
        "np.max(train_data), np.max(test_data)"
      ],
      "execution_count": null,
      "outputs": [
        {
          "output_type": "execute_result",
          "data": {
            "text/plain": [
              "(255.0, 255.0)"
            ]
          },
          "metadata": {
            "tags": []
          },
          "execution_count": 73
        }
      ]
    },
    {
      "cell_type": "code",
      "metadata": {
        "id": "ghjLPIg63yGB"
      },
      "source": [
        "train_data = train_data / np.max(train_data)\n",
        "test_data = test_data / np.max(test_data)"
      ],
      "execution_count": null,
      "outputs": []
    },
    {
      "cell_type": "code",
      "metadata": {
        "id": "mwjUvASP30Vt",
        "colab": {
          "base_uri": "https://localhost:8080/",
          "height": 35
        },
        "outputId": "85954221-76b5-4010-e321-2e48132fb3d2"
      },
      "source": [
        "np.max(train_data), np.max(test_data)"
      ],
      "execution_count": null,
      "outputs": [
        {
          "output_type": "execute_result",
          "data": {
            "text/plain": [
              "(1.0, 1.0)"
            ]
          },
          "metadata": {
            "tags": []
          },
          "execution_count": 75
        }
      ]
    },
    {
      "cell_type": "code",
      "metadata": {
        "id": "Us4yEZeR34F7"
      },
      "source": [
        "from sklearn.model_selection import train_test_split\n",
        "train_X,valid_X,train_ground,valid_ground = train_test_split(train_data,\n",
        "                                                             train_data,\n",
        "                                                             test_size=0.2,\n",
        "                                                             random_state=13)"
      ],
      "execution_count": null,
      "outputs": []
    },
    {
      "cell_type": "code",
      "metadata": {
        "id": "UlE2adhe37tB"
      },
      "source": [
        "batch_size = 64\n",
        "epochs = 50\n",
        "inChannel = 1\n",
        "x, y = 28, 28\n",
        "input_img = Input(shape = (x, y, inChannel))\n",
        "num_classes = 10"
      ],
      "execution_count": null,
      "outputs": []
    },
    {
      "cell_type": "code",
      "metadata": {
        "id": "juFMhyFG3-l1"
      },
      "source": [
        "def encoder(input_img):\n",
        "    #encoder\n",
        "    #input = 28 x 28 x 1 (wide and thin)\n",
        "    conv1 = Conv2D(32, (3, 3), activation='relu', padding='same')(input_img) #28 x 28 x 32\n",
        "    conv1 = BatchNormalization()(conv1)\n",
        "    conv1 = Conv2D(32, (3, 3), activation='relu', padding='same')(conv1)\n",
        "    conv1 = BatchNormalization()(conv1)\n",
        "    pool1 = MaxPooling2D(pool_size=(2, 2))(conv1) #14 x 14 x 32\n",
        "    conv2 = Conv2D(64, (3, 3), activation='relu', padding='same')(pool1) #14 x 14 x 64\n",
        "    conv2 = BatchNormalization()(conv2)\n",
        "    conv2 = Conv2D(64, (3, 3), activation='relu', padding='same')(conv2)\n",
        "    conv2 = BatchNormalization()(conv2)\n",
        "    pool2 = MaxPooling2D(pool_size=(2, 2))(conv2) #7 x 7 x 64\n",
        "    conv3 = Conv2D(128, (3, 3), activation='relu', padding='same')(pool2) #7 x 7 x 128 (small and thick)\n",
        "    conv3 = BatchNormalization()(conv3)\n",
        "    conv3 = Conv2D(128, (3, 3), activation='relu', padding='same')(conv3)\n",
        "    conv3 = BatchNormalization()(conv3)\n",
        "    conv4 = Conv2D(256, (3, 3), activation='relu', padding='same')(conv3) #7 x 7 x 256 (small and thick)\n",
        "    conv4 = BatchNormalization()(conv4)\n",
        "    conv4 = Conv2D(256, (3, 3), activation='relu', padding='same')(conv4)\n",
        "    conv4 = BatchNormalization()(conv4)\n",
        "    return conv4\n",
        "\n",
        "def decoder(conv4):    \n",
        "    #decoder\n",
        "    conv5 = Conv2D(128, (3, 3), activation='relu', padding='same')(conv4) #7 x 7 x 128\n",
        "    conv5 = BatchNormalization()(conv5)\n",
        "    conv5 = Conv2D(128, (3, 3), activation='relu', padding='same')(conv5)\n",
        "    conv5 = BatchNormalization()(conv5)\n",
        "    conv6 = Conv2D(64, (3, 3), activation='relu', padding='same')(conv5) #7 x 7 x 64\n",
        "    conv6 = BatchNormalization()(conv6)\n",
        "    conv6 = Conv2D(64, (3, 3), activation='relu', padding='same')(conv6)\n",
        "    conv6 = BatchNormalization()(conv6)\n",
        "    up1 = UpSampling2D((2,2))(conv6) #14 x 14 x 64\n",
        "    conv7 = Conv2D(32, (3, 3), activation='relu', padding='same')(up1) # 14 x 14 x 32\n",
        "    conv7 = BatchNormalization()(conv7)\n",
        "    conv7 = Conv2D(32, (3, 3), activation='relu', padding='same')(conv7)\n",
        "    conv7 = BatchNormalization()(conv7)\n",
        "    up2 = UpSampling2D((2,2))(conv7) # 28 x 28 x 32\n",
        "    decoded = Conv2D(1, (3, 3), activation='sigmoid', padding='same')(up2) # 28 x 28 x 1\n",
        "    return decoded"
      ],
      "execution_count": null,
      "outputs": []
    },
    {
      "cell_type": "code",
      "metadata": {
        "id": "rlzYPQdz4E58"
      },
      "source": [
        "autoencoder = Model(input_img, decoder(encoder(input_img)))\n",
        "autoencoder.compile(loss='mean_squared_error', optimizer = RMSprop())"
      ],
      "execution_count": null,
      "outputs": []
    },
    {
      "cell_type": "code",
      "metadata": {
        "id": "CP47KKSa4JLN"
      },
      "source": [
        "autoencoder.summary()"
      ],
      "execution_count": null,
      "outputs": []
    },
    {
      "cell_type": "code",
      "metadata": {
        "id": "QNmxgY5f4L3V"
      },
      "source": [
        "autoencoder_train = autoencoder.fit(train_X, train_ground, batch_size=batch_size,epochs=epochs,verbose=1,validation_data=(valid_X, valid_ground))"
      ],
      "execution_count": null,
      "outputs": []
    },
    {
      "cell_type": "code",
      "metadata": {
        "id": "S8A3GjZv4Oc8",
        "colab": {
          "base_uri": "https://localhost:8080/",
          "height": 281
        },
        "outputId": "84cab2de-89d5-4eea-c88b-5434cb4c842e"
      },
      "source": [
        "loss = autoencoder_train.history['loss']\n",
        "val_loss = autoencoder_train.history['val_loss']\n",
        "epochs = range(50)\n",
        "plt.figure()\n",
        "plt.plot(epochs, loss, 'bo', label='Training loss')\n",
        "plt.plot(epochs, val_loss, 'b', label='Validation loss')\n",
        "plt.title('Training and validation loss')\n",
        "plt.legend()\n",
        "plt.show()"
      ],
      "execution_count": null,
      "outputs": [
        {
          "output_type": "display_data",
          "data": {
            "image/png": "[encoded data removed]",
            "text/plain": [
              "<Figure size 432x288 with 1 Axes>"
            ]
          },
          "metadata": {
            "tags": [],
            "needs_background": "light"
          }
        }
      ]
    },
    {
      "cell_type": "code",
      "metadata": {
        "id": "w_1Z1TEt4Q38"
      },
      "source": [
        "autoencoder.save_weights('autoencoder.h5')"
      ],
      "execution_count": null,
      "outputs": []
    },
    {
      "cell_type": "code",
      "metadata": {
        "id": "p4XjkoiJ4SnI",
        "colab": {
          "base_uri": "https://localhost:8080/",
          "height": 54
        },
        "outputId": "338d213e-760e-44c7-f629-0c174cbb258e"
      },
      "source": [
        "# Change the labels from categorical to one-hot encoding\n",
        "train_Y_one_hot = to_categorical(train_labels)\n",
        "test_Y_one_hot = to_categorical(test_labels)\n",
        "\n",
        "# Display the change for category label using one-hot encoding\n",
        "print('Original label:', train_labels[0])\n",
        "print('After conversion to one-hot:', train_Y_one_hot[0])"
      ],
      "execution_count": null,
      "outputs": [
        {
          "output_type": "stream",
          "text": [
            "Original label: 5\n",
            "After conversion to one-hot: [0. 0. 0. 0. 0. 1. 0. 0. 0. 0.]\n"
          ],
          "name": "stdout"
        }
      ]
    },
    {
      "cell_type": "code",
      "metadata": {
        "id": "zYlQs_3a4WF9",
        "colab": {
          "base_uri": "https://localhost:8080/",
          "height": 35
        },
        "outputId": "f1707201-80ec-440e-a94a-0ae47f035a60"
      },
      "source": [
        "train_X,valid_X,train_label,valid_label = train_test_split(train_data,train_Y_one_hot,test_size=0.2,random_state=13)\n",
        "train_X.shape,valid_X.shape,train_label.shape,valid_label.shape"
      ],
      "execution_count": null,
      "outputs": [
        {
          "output_type": "execute_result",
          "data": {
            "text/plain": [
              "((48000, 28, 28, 1), (12000, 28, 28, 1), (48000, 10), (12000, 10))"
            ]
          },
          "metadata": {
            "tags": []
          },
          "execution_count": 86
        }
      ]
    },
    {
      "cell_type": "markdown",
      "metadata": {
        "id": "HhbKgN4vdl6b"
      },
      "source": [
        "**AUTO ENCODER FOR CLASSIFICATION**"
      ]
    },
    {
      "cell_type": "code",
      "metadata": {
        "id": "bY3wF9cr4Yhg"
      },
      "source": [
        "def encoder(input_img):\n",
        "    #encoder\n",
        "    #input = 28 x 28 x 1 (wide and thin)\n",
        "    conv1 = Conv2D(32, (3, 3), activation='relu', padding='same')(input_img) #28 x 28 x 32\n",
        "    conv1 = BatchNormalization()(conv1)\n",
        "    conv1 = Conv2D(32, (3, 3), activation='relu', padding='same')(conv1)\n",
        "    conv1 = BatchNormalization()(conv1)\n",
        "    pool1 = MaxPooling2D(pool_size=(2, 2))(conv1) #14 x 14 x 32\n",
        "    conv2 = Conv2D(64, (3, 3), activation='relu', padding='same')(pool1) #14 x 14 x 64\n",
        "    conv2 = BatchNormalization()(conv2)\n",
        "    conv2 = Conv2D(64, (3, 3), activation='relu', padding='same')(conv2)\n",
        "    conv2 = BatchNormalization()(conv2)\n",
        "    pool2 = MaxPooling2D(pool_size=(2, 2))(conv2) #7 x 7 x 64\n",
        "    conv3 = Conv2D(128, (3, 3), activation='relu', padding='same')(pool2) #7 x 7 x 128 (small and thick)\n",
        "    conv3 = BatchNormalization()(conv3)\n",
        "    conv3 = Conv2D(128, (3, 3), activation='relu', padding='same')(conv3)\n",
        "    conv3 = BatchNormalization()(conv3)\n",
        "    conv4 = Conv2D(256, (3, 3), activation='relu', padding='same')(conv3) #7 x 7 x 256 (small and thick)\n",
        "    conv4 = BatchNormalization()(conv4)\n",
        "    conv4 = Conv2D(256, (3, 3), activation='relu', padding='same')(conv4)\n",
        "    conv4 = BatchNormalization()(conv4)\n",
        "    return conv4"
      ],
      "execution_count": null,
      "outputs": []
    },
    {
      "cell_type": "code",
      "metadata": {
        "id": "fnLmbS0W4dNS"
      },
      "source": [
        "def fc(enco):\n",
        "    flat = Flatten()(enco)\n",
        "    den = Dense(128, activation='relu')(flat)\n",
        "    out = Dense(num_classes, activation='softmax')(den)\n",
        "    return out"
      ],
      "execution_count": null,
      "outputs": []
    },
    {
      "cell_type": "code",
      "metadata": {
        "id": "Knr08b4Z4fSW"
      },
      "source": [
        "encode = encoder(input_img)\n",
        "full_model = Model(input_img,fc(encode))"
      ],
      "execution_count": null,
      "outputs": []
    },
    {
      "cell_type": "code",
      "metadata": {
        "id": "gLyfOYW04hcF"
      },
      "source": [
        "for l1,l2 in zip(full_model.layers[:19],autoencoder.layers[0:19]):\n",
        "    l1.set_weights(l2.get_weights())"
      ],
      "execution_count": null,
      "outputs": []
    },
    {
      "cell_type": "code",
      "metadata": {
        "id": "E1FHD0fu4i0h"
      },
      "source": [
        "for layer in full_model.layers[0:19]:\n",
        "    layer.trainable = False"
      ],
      "execution_count": null,
      "outputs": []
    },
    {
      "cell_type": "code",
      "metadata": {
        "id": "oI8me2kS4kuL"
      },
      "source": [
        "full_model.compile(loss=keras.losses.categorical_crossentropy, optimizer=keras.optimizers.Adam(),metrics=['accuracy'])"
      ],
      "execution_count": null,
      "outputs": []
    },
    {
      "cell_type": "code",
      "metadata": {
        "id": "LGd0OjFP4qH1",
        "colab": {
          "base_uri": "https://localhost:8080/",
          "height": 972
        },
        "outputId": "d7be56ba-6766-4453-b432-0426d3adccaa"
      },
      "source": [
        "full_model.summary()"
      ],
      "execution_count": null,
      "outputs": [
        {
          "output_type": "stream",
          "text": [
            "Model: \"model_4\"\n",
            "_________________________________________________________________\n",
            "Layer (type)                 Output Shape              Param #   \n",
            "=================================================================\n",
            "input_2 (InputLayer)         (None, 28, 28, 1)         0         \n",
            "_________________________________________________________________\n",
            "conv2d_39 (Conv2D)           (None, 28, 28, 32)        320       \n",
            "_________________________________________________________________\n",
            "batch_normalization_37 (Batc (None, 28, 28, 32)        128       \n",
            "_________________________________________________________________\n",
            "conv2d_40 (Conv2D)           (None, 28, 28, 32)        9248      \n",
            "_________________________________________________________________\n",
            "batch_normalization_38 (Batc (None, 28, 28, 32)        128       \n",
            "_________________________________________________________________\n",
            "max_pooling2d_7 (MaxPooling2 (None, 14, 14, 32)        0         \n",
            "_________________________________________________________________\n",
            "conv2d_41 (Conv2D)           (None, 14, 14, 64)        18496     \n",
            "_________________________________________________________________\n",
            "batch_normalization_39 (Batc (None, 14, 14, 64)        256       \n",
            "_________________________________________________________________\n",
            "conv2d_42 (Conv2D)           (None, 14, 14, 64)        36928     \n",
            "_________________________________________________________________\n",
            "batch_normalization_40 (Batc (None, 14, 14, 64)        256       \n",
            "_________________________________________________________________\n",
            "max_pooling2d_8 (MaxPooling2 (None, 7, 7, 64)          0         \n",
            "_________________________________________________________________\n",
            "conv2d_43 (Conv2D)           (None, 7, 7, 128)         73856     \n",
            "_________________________________________________________________\n",
            "batch_normalization_41 (Batc (None, 7, 7, 128)         512       \n",
            "_________________________________________________________________\n",
            "conv2d_44 (Conv2D)           (None, 7, 7, 128)         147584    \n",
            "_________________________________________________________________\n",
            "batch_normalization_42 (Batc (None, 7, 7, 128)         512       \n",
            "_________________________________________________________________\n",
            "conv2d_45 (Conv2D)           (None, 7, 7, 256)         295168    \n",
            "_________________________________________________________________\n",
            "batch_normalization_43 (Batc (None, 7, 7, 256)         1024      \n",
            "_________________________________________________________________\n",
            "conv2d_46 (Conv2D)           (None, 7, 7, 256)         590080    \n",
            "_________________________________________________________________\n",
            "batch_normalization_44 (Batc (None, 7, 7, 256)         1024      \n",
            "_________________________________________________________________\n",
            "flatten_2 (Flatten)          (None, 12544)             0         \n",
            "_________________________________________________________________\n",
            "dense_3 (Dense)              (None, 128)               1605760   \n",
            "_________________________________________________________________\n",
            "dense_4 (Dense)              (None, 10)                1290      \n",
            "=================================================================\n",
            "Total params: 2,782,570\n",
            "Trainable params: 1,607,050\n",
            "Non-trainable params: 1,175,520\n",
            "_________________________________________________________________\n"
          ],
          "name": "stdout"
        }
      ]
    },
    {
      "cell_type": "code",
      "metadata": {
        "id": "yeKCSWcW4rc7",
        "colab": {
          "base_uri": "https://localhost:8080/",
          "height": 1000
        },
        "outputId": "544235b7-c40a-4e05-99bb-bb76e80e5160"
      },
      "source": [
        "classify_train = full_model.fit(train_X, train_label, batch_size=64,epochs=30,verbose=1,validation_data=(valid_X, valid_label))"
      ],
      "execution_count": null,
      "outputs": [
        {
          "output_type": "stream",
          "text": [
            "Train on 48000 samples, validate on 12000 samples\n",
            "Epoch 1/30\n",
            "48000/48000 [==============================] - 7s 146us/step - loss: 0.2179 - accuracy: 0.9358 - val_loss: 0.1283 - val_accuracy: 0.9628\n",
            "Epoch 2/30\n",
            "48000/48000 [==============================] - 7s 136us/step - loss: 0.0717 - accuracy: 0.9774 - val_loss: 0.1339 - val_accuracy: 0.9640\n",
            "Epoch 3/30\n",
            "48000/48000 [==============================] - 6s 135us/step - loss: 0.0492 - accuracy: 0.9840 - val_loss: 0.1483 - val_accuracy: 0.9667\n",
            "Epoch 4/30\n",
            "48000/48000 [==============================] - 6s 135us/step - loss: 0.0398 - accuracy: 0.9871 - val_loss: 0.1444 - val_accuracy: 0.9682\n",
            "Epoch 5/30\n",
            "48000/48000 [==============================] - 7s 137us/step - loss: 0.0309 - accuracy: 0.9900 - val_loss: 0.1451 - val_accuracy: 0.9695\n",
            "Epoch 6/30\n",
            "48000/48000 [==============================] - 6s 134us/step - loss: 0.0315 - accuracy: 0.9905 - val_loss: 0.1772 - val_accuracy: 0.9708\n",
            "Epoch 7/30\n",
            "48000/48000 [==============================] - 7s 135us/step - loss: 0.0294 - accuracy: 0.9912 - val_loss: 0.1993 - val_accuracy: 0.9687\n",
            "Epoch 8/30\n",
            "48000/48000 [==============================] - 7s 138us/step - loss: 0.0312 - accuracy: 0.9908 - val_loss: 0.1701 - val_accuracy: 0.9715\n",
            "Epoch 9/30\n",
            "48000/48000 [==============================] - 6s 134us/step - loss: 0.0193 - accuracy: 0.9941 - val_loss: 0.1726 - val_accuracy: 0.9743\n",
            "Epoch 10/30\n",
            "48000/48000 [==============================] - 7s 136us/step - loss: 0.0197 - accuracy: 0.9941 - val_loss: 0.2198 - val_accuracy: 0.9678\n",
            "Epoch 11/30\n",
            "48000/48000 [==============================] - 7s 137us/step - loss: 0.0188 - accuracy: 0.9949 - val_loss: 0.2016 - val_accuracy: 0.9728\n",
            "Epoch 12/30\n",
            "48000/48000 [==============================] - 7s 137us/step - loss: 0.0218 - accuracy: 0.9939 - val_loss: 0.2467 - val_accuracy: 0.9713\n",
            "Epoch 13/30\n",
            "48000/48000 [==============================] - 6s 135us/step - loss: 0.0228 - accuracy: 0.9942 - val_loss: 0.2142 - val_accuracy: 0.9741\n",
            "Epoch 14/30\n",
            "48000/48000 [==============================] - 6s 134us/step - loss: 0.0163 - accuracy: 0.9956 - val_loss: 0.2246 - val_accuracy: 0.9732\n",
            "Epoch 15/30\n",
            "48000/48000 [==============================] - 7s 136us/step - loss: 0.0170 - accuracy: 0.9956 - val_loss: 0.2624 - val_accuracy: 0.9704\n",
            "Epoch 16/30\n",
            "48000/48000 [==============================] - 6s 135us/step - loss: 0.0154 - accuracy: 0.9956 - val_loss: 0.2299 - val_accuracy: 0.9759\n",
            "Epoch 17/30\n",
            "48000/48000 [==============================] - 7s 136us/step - loss: 0.0161 - accuracy: 0.9954 - val_loss: 0.2861 - val_accuracy: 0.9718\n",
            "Epoch 18/30\n",
            "48000/48000 [==============================] - 7s 136us/step - loss: 0.0170 - accuracy: 0.9958 - val_loss: 0.2670 - val_accuracy: 0.9745\n",
            "Epoch 19/30\n",
            "48000/48000 [==============================] - 7s 137us/step - loss: 0.0112 - accuracy: 0.9970 - val_loss: 0.2864 - val_accuracy: 0.9727\n",
            "Epoch 20/30\n",
            "48000/48000 [==============================] - 7s 136us/step - loss: 0.0133 - accuracy: 0.9965 - val_loss: 0.2679 - val_accuracy: 0.9760\n",
            "Epoch 21/30\n",
            "48000/48000 [==============================] - 7s 138us/step - loss: 0.0182 - accuracy: 0.9960 - val_loss: 0.2847 - val_accuracy: 0.9745\n",
            "Epoch 22/30\n",
            "48000/48000 [==============================] - 7s 136us/step - loss: 0.0154 - accuracy: 0.9964 - val_loss: 0.2671 - val_accuracy: 0.9743\n",
            "Epoch 23/30\n",
            "48000/48000 [==============================] - 6s 134us/step - loss: 0.0139 - accuracy: 0.9968 - val_loss: 0.3146 - val_accuracy: 0.9719\n",
            "Epoch 24/30\n",
            "48000/48000 [==============================] - 7s 137us/step - loss: 0.0153 - accuracy: 0.9967 - val_loss: 0.2889 - val_accuracy: 0.9772\n",
            "Epoch 25/30\n",
            "48000/48000 [==============================] - 7s 136us/step - loss: 0.0092 - accuracy: 0.9976 - val_loss: 0.2999 - val_accuracy: 0.9762\n",
            "Epoch 26/30\n",
            "48000/48000 [==============================] - 7s 138us/step - loss: 0.0179 - accuracy: 0.9963 - val_loss: 0.3016 - val_accuracy: 0.9762\n",
            "Epoch 27/30\n",
            "48000/48000 [==============================] - 7s 139us/step - loss: 0.0163 - accuracy: 0.9970 - val_loss: 0.3148 - val_accuracy: 0.9771\n",
            "Epoch 28/30\n",
            "48000/48000 [==============================] - 7s 136us/step - loss: 0.0122 - accuracy: 0.9975 - val_loss: 0.2914 - val_accuracy: 0.9778\n",
            "Epoch 29/30\n",
            "48000/48000 [==============================] - 7s 136us/step - loss: 0.0109 - accuracy: 0.9978 - val_loss: 0.3056 - val_accuracy: 0.9765\n",
            "Epoch 30/30\n",
            "48000/48000 [==============================] - 6s 134us/step - loss: 0.0085 - accuracy: 0.9976 - val_loss: 0.3369 - val_accuracy: 0.9761\n"
          ],
          "name": "stdout"
        }
      ]
    },
    {
      "cell_type": "code",
      "metadata": {
        "id": "57NTbmRk4tZZ"
      },
      "source": [
        "full_model.save_weights('autoencoder_classification.h5')"
      ],
      "execution_count": null,
      "outputs": []
    },
    {
      "cell_type": "code",
      "metadata": {
        "id": "sCfZp6484u0u"
      },
      "source": [
        "for layer in full_model.layers[0:19]:\n",
        "    layer.trainable = True"
      ],
      "execution_count": null,
      "outputs": []
    },
    {
      "cell_type": "code",
      "metadata": {
        "id": "IryQ21LW4wYt"
      },
      "source": [
        "full_model.compile(loss=keras.losses.categorical_crossentropy, optimizer=keras.optimizers.Adam(),metrics=['accuracy'])"
      ],
      "execution_count": null,
      "outputs": []
    },
    {
      "cell_type": "code",
      "metadata": {
        "id": "AP02qDj94ySA",
        "colab": {
          "base_uri": "https://localhost:8080/",
          "height": 1000
        },
        "outputId": "45110523-89f4-4503-ef2a-4d939f64f7d3"
      },
      "source": [
        "classify_train = full_model.fit(train_X, train_label, batch_size=64,epochs=30,verbose=1,validation_data=(valid_X, valid_label))"
      ],
      "execution_count": null,
      "outputs": [
        {
          "output_type": "stream",
          "text": [
            "Train on 48000 samples, validate on 12000 samples\n",
            "Epoch 1/30\n",
            "48000/48000 [==============================] - 19s 405us/step - loss: 0.0843 - accuracy: 0.9886 - val_loss: 0.2602 - val_accuracy: 0.9760\n",
            "Epoch 2/30\n",
            "48000/48000 [==============================] - 18s 377us/step - loss: 0.0442 - accuracy: 0.9933 - val_loss: 0.2634 - val_accuracy: 0.9779\n",
            "Epoch 3/30\n",
            "48000/48000 [==============================] - 18s 377us/step - loss: 0.0451 - accuracy: 0.9925 - val_loss: 0.2150 - val_accuracy: 0.9803\n",
            "Epoch 4/30\n",
            "48000/48000 [==============================] - 18s 375us/step - loss: 0.0262 - accuracy: 0.9951 - val_loss: 0.2163 - val_accuracy: 0.9789\n",
            "Epoch 5/30\n",
            "48000/48000 [==============================] - 18s 374us/step - loss: 0.0308 - accuracy: 0.9948 - val_loss: 0.2406 - val_accuracy: 0.9787\n",
            "Epoch 6/30\n",
            "48000/48000 [==============================] - 18s 374us/step - loss: 0.0267 - accuracy: 0.9952 - val_loss: 0.2052 - val_accuracy: 0.9794\n",
            "Epoch 7/30\n",
            "48000/48000 [==============================] - 18s 377us/step - loss: 0.0330 - accuracy: 0.9944 - val_loss: 0.1575 - val_accuracy: 0.9845\n",
            "Epoch 8/30\n",
            "48000/48000 [==============================] - 18s 374us/step - loss: 0.0206 - accuracy: 0.9956 - val_loss: 0.1317 - val_accuracy: 0.9843\n",
            "Epoch 9/30\n",
            "48000/48000 [==============================] - 18s 375us/step - loss: 0.0186 - accuracy: 0.9959 - val_loss: 0.1561 - val_accuracy: 0.9834\n",
            "Epoch 10/30\n",
            "48000/48000 [==============================] - 18s 377us/step - loss: 0.0133 - accuracy: 0.9969 - val_loss: 0.1729 - val_accuracy: 0.9806\n",
            "Epoch 11/30\n",
            "48000/48000 [==============================] - 18s 374us/step - loss: 0.0183 - accuracy: 0.9963 - val_loss: 0.1501 - val_accuracy: 0.9833\n",
            "Epoch 12/30\n",
            "48000/48000 [==============================] - 18s 376us/step - loss: 0.0274 - accuracy: 0.9954 - val_loss: 0.2053 - val_accuracy: 0.9814\n",
            "Epoch 13/30\n",
            "48000/48000 [==============================] - 18s 372us/step - loss: 0.0188 - accuracy: 0.9965 - val_loss: 0.1241 - val_accuracy: 0.9860\n",
            "Epoch 14/30\n",
            "48000/48000 [==============================] - 18s 377us/step - loss: 0.0163 - accuracy: 0.9964 - val_loss: 0.1378 - val_accuracy: 0.9830\n",
            "Epoch 15/30\n",
            "48000/48000 [==============================] - 18s 375us/step - loss: 0.0121 - accuracy: 0.9974 - val_loss: 0.1301 - val_accuracy: 0.9858\n",
            "Epoch 16/30\n",
            "48000/48000 [==============================] - 18s 380us/step - loss: 0.0167 - accuracy: 0.9969 - val_loss: 0.1250 - val_accuracy: 0.9840\n",
            "Epoch 17/30\n",
            "48000/48000 [==============================] - 18s 374us/step - loss: 0.0110 - accuracy: 0.9977 - val_loss: 0.1139 - val_accuracy: 0.9858\n",
            "Epoch 18/30\n",
            "48000/48000 [==============================] - 18s 375us/step - loss: 0.0090 - accuracy: 0.9979 - val_loss: 0.1358 - val_accuracy: 0.9856\n",
            "Epoch 19/30\n",
            "48000/48000 [==============================] - 18s 374us/step - loss: 0.0136 - accuracy: 0.9972 - val_loss: 0.1415 - val_accuracy: 0.9843\n",
            "Epoch 20/30\n",
            "48000/48000 [==============================] - 18s 376us/step - loss: 0.0126 - accuracy: 0.9971 - val_loss: 0.1317 - val_accuracy: 0.9852\n",
            "Epoch 21/30\n",
            "48000/48000 [==============================] - 18s 370us/step - loss: 0.0078 - accuracy: 0.9981 - val_loss: 0.1246 - val_accuracy: 0.9851\n",
            "Epoch 22/30\n",
            "48000/48000 [==============================] - 18s 371us/step - loss: 0.0128 - accuracy: 0.9977 - val_loss: 0.1190 - val_accuracy: 0.9882\n",
            "Epoch 23/30\n",
            "48000/48000 [==============================] - 18s 370us/step - loss: 0.0138 - accuracy: 0.9973 - val_loss: 0.1391 - val_accuracy: 0.9863\n",
            "Epoch 24/30\n",
            "48000/48000 [==============================] - 18s 374us/step - loss: 0.0065 - accuracy: 0.9986 - val_loss: 0.0963 - val_accuracy: 0.9891\n",
            "Epoch 25/30\n",
            "48000/48000 [==============================] - 18s 373us/step - loss: 0.0059 - accuracy: 0.9987 - val_loss: 0.1359 - val_accuracy: 0.9830\n",
            "Epoch 26/30\n",
            "48000/48000 [==============================] - 18s 373us/step - loss: 0.0136 - accuracy: 0.9972 - val_loss: 0.1188 - val_accuracy: 0.9852\n",
            "Epoch 27/30\n",
            "48000/48000 [==============================] - 18s 374us/step - loss: 0.0094 - accuracy: 0.9978 - val_loss: 0.1137 - val_accuracy: 0.9886\n",
            "Epoch 28/30\n",
            "48000/48000 [==============================] - 18s 376us/step - loss: 0.0085 - accuracy: 0.9981 - val_loss: 0.1288 - val_accuracy: 0.9868\n",
            "Epoch 29/30\n",
            "48000/48000 [==============================] - 18s 375us/step - loss: 0.0106 - accuracy: 0.9981 - val_loss: 0.1146 - val_accuracy: 0.9860\n",
            "Epoch 30/30\n",
            "48000/48000 [==============================] - 18s 372us/step - loss: 0.0066 - accuracy: 0.9985 - val_loss: 0.1083 - val_accuracy: 0.9890\n"
          ],
          "name": "stdout"
        }
      ]
    },
    {
      "cell_type": "code",
      "metadata": {
        "id": "6eoSzYUh41UB"
      },
      "source": [
        "full_model.save_weights('classification_complete.h5')"
      ],
      "execution_count": null,
      "outputs": []
    },
    {
      "cell_type": "code",
      "metadata": {
        "id": "sEImj3lb43Oz",
        "colab": {
          "base_uri": "https://localhost:8080/",
          "height": 545
        },
        "outputId": "cee55bae-2348-4242-c0e6-345c2008381f"
      },
      "source": [
        "accuracy = classify_train.history['accuracy']\n",
        "val_accuracy = classify_train.history['val_accuracy']\n",
        "loss = classify_train.history['loss']\n",
        "val_loss = classify_train.history['val_loss']\n",
        "epochs = range(len(accuracy))\n",
        "plt.plot(epochs, accuracy, 'bo', label='Training accuracy')\n",
        "plt.plot(epochs, val_accuracy, 'b', label='Validation accuracy')\n",
        "plt.title('Training and validation accuracy')\n",
        "plt.legend()\n",
        "plt.figure()\n",
        "plt.plot(epochs, loss, 'bo', label='Training loss')\n",
        "plt.plot(epochs, val_loss, 'b', label='Validation loss')\n",
        "plt.title('Training and validation loss')\n",
        "plt.legend()\n",
        "plt.show()"
      ],
      "execution_count": null,
      "outputs": [
        {
          "output_type": "display_data",
          "data": {
            "image/png": "[encoded data removed]",
            "text/plain": [
              "<Figure size 432x288 with 1 Axes>"
            ]
          },
          "metadata": {
            "tags": [],
            "needs_background": "light"
          }
        },
        {
          "output_type": "display_data",
          "data": {
            "image/png": "[encoded data removed]",
            "text/plain": [
              "<Figure size 432x288 with 1 Axes>"
            ]
          },
          "metadata": {
            "tags": [],
            "needs_background": "light"
          }
        }
      ]
    },
    {
      "cell_type": "code",
      "metadata": {
        "id": "u4ONpa4O43tM",
        "colab": {
          "base_uri": "https://localhost:8080/",
          "height": 54
        },
        "outputId": "048e0a91-ac2f-4984-9acf-289575f3bd1c"
      },
      "source": [
        "test_eval = full_model.evaluate(test_data, test_Y_one_hot, verbose=0)\n",
        "print('Test loss:', test_eval[0])\n",
        "print('Test accuracy:', test_eval[1])"
      ],
      "execution_count": null,
      "outputs": [
        {
          "output_type": "stream",
          "text": [
            "Test loss: 0.10951367409736663\n",
            "Test accuracy: 0.9890999794006348\n"
          ],
          "name": "stdout"
        }
      ]
    },
    {
      "cell_type": "code",
      "metadata": {
        "id": "7eiy1pbM47i1"
      },
      "source": [
        "predicted_classes = full_model.predict(test_data)"
      ],
      "execution_count": null,
      "outputs": []
    },
    {
      "cell_type": "code",
      "metadata": {
        "id": "H2bN9F6s49OI",
        "colab": {
          "base_uri": "https://localhost:8080/",
          "height": 315
        },
        "outputId": "f584ad61-96d8-468b-c576-6eed98cce9ef"
      },
      "source": [
        "predicted_classes = np.argmax(np.round(predicted_classes),axis=1)\n",
        "predicted_classes.shape, test_labels.shape\n",
        "correct = np.where(predicted_classes==test_labels)[0]\n",
        "print(\"Found %d correct labels\", len(correct))\n",
        "for i, correct in enumerate(correct[:9]):\n",
        "    plt.subplot(3,3,i+1)\n",
        "    plt.imshow(test_data[correct].reshape(28,28), cmap='gray', interpolation='none')\n",
        "    plt.title(\"Predicted {}, Class {}\".format(predicted_classes[correct], test_labels[correct]))\n",
        "    plt.tight_layout()"
      ],
      "execution_count": null,
      "outputs": [
        {
          "output_type": "stream",
          "text": [
            "Found %d correct labels 9891\n"
          ],
          "name": "stdout"
        },
        {
          "output_type": "display_data",
          "data": {
            "image/png": "[encoded data removed]",
            "text/plain": [
              "<Figure size 432x288 with 9 Axes>"
            ]
          },
          "metadata": {
            "tags": [],
            "needs_background": "light"
          }
        }
      ]
    },
    {
      "cell_type": "code",
      "metadata": {
        "id": "KYTt8U_95Elg",
        "colab": {
          "base_uri": "https://localhost:8080/",
          "height": 315
        },
        "outputId": "84659517-5a39-4267-a1bf-fea8d2040b0f"
      },
      "source": [
        "incorrect = np.where(predicted_classes!=test_labels)[0]\n",
        "print(\"Found %d correct labels\", len(incorrect))\n",
        "for i, incorrect in enumerate(incorrect[:9]):\n",
        "    plt.subplot(3,3,i+1)\n",
        "    plt.imshow(test_data[incorrect].reshape(28,28), cmap='gray', interpolation='none')\n",
        "    plt.title(\"Predicted {}, Class {}\".format(predicted_classes[incorrect], test_labels[incorrect]))\n",
        "    plt.tight_layout()"
      ],
      "execution_count": null,
      "outputs": [
        {
          "output_type": "stream",
          "text": [
            "Found %d correct labels 109\n"
          ],
          "name": "stdout"
        },
        {
          "output_type": "display_data",
          "data": {
            "image/png": "[encoded data removed]",
            "text/plain": [
              "<Figure size 432x288 with 9 Axes>"
            ]
          },
          "metadata": {
            "tags": [],
            "needs_background": "light"
          }
        }
      ]
    },
    {
      "cell_type": "code",
      "metadata": {
        "id": "E31AlOE87rWk"
      },
      "source": [
        ""
      ],
      "execution_count": null,
      "outputs": []
    }
  ]
}