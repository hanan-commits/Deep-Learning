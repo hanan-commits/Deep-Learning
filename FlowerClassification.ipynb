{
  "nbformat": 4,
  "nbformat_minor": 0,
  "metadata": {
    "colab": {
      "name": "FlowerClassification.ipynb",
      "provenance": [],
      "collapsed_sections": []
    },
    "kernelspec": {
      "name": "python3",
      "display_name": "Python 3"
    },
    "accelerator": "GPU"
  },
  "cells": [
    {
      "cell_type": "markdown",
      "metadata": {
        "id": "0P35B9-idjMo"
      },
      "source": [
        "Flower Classification System using data provided on Kaggle.\n",
        "\n",
        "In this project, I used standard CNN model to classify all 5 classes of Flowers \n",
        "and achieving accuracy upto 95%\n",
        "\n",
        "In this project, overfitting is a huge concern due to smaller dataset\n",
        "So in order to avoid that, we used prepocessing techniques like Data Augmentation and runtime techniques such as Batch normalization and regularlization"
      ]
    },
    {
      "cell_type": "markdown",
      "metadata": {
        "id": "nvvOhnOvAJWU"
      },
      "source": [
        ""
      ]
    },
    {
      "cell_type": "markdown",
      "metadata": {
        "id": "w9uEP1ZyAI53"
      },
      "source": [
        "Importing Libraries"
      ]
    },
    {
      "cell_type": "code",
      "metadata": {
        "id": "cED6BV026NJb"
      },
      "source": [
        "import cv2, os\n",
        "import numpy as np\n",
        "import tensorflow as tf\n",
        "import matplotlib.pyplot as plt\n",
        "import pandas as pd\n",
        "import pickle\n",
        "\n",
        "from pydrive.auth import GoogleAuth\n",
        "from pydrive.drive import GoogleDrive\n",
        "from google.colab import auth\n",
        "from oauth2client.client import GoogleCredentials\n",
        "from google.colab import drive\n",
        "from sklearn.utils import shuffle\n",
        "from tqdm import tqdm\n",
        "from keras.models import *\n",
        "from keras.layers import *\n",
        "from keras.optimizers import *\n",
        "from keras import backend as K\n",
        "from sklearn.model_selection import train_test_split\n",
        "from sklearn.model_selection import StratifiedKFold\n",
        "from keras.utils import np_utils\n",
        "from contextlib import redirect_stdout\n",
        "from keras import layers\n",
        "from functools import partial\n",
        "\n",
        "\n",
        "%matplotlib inline"
      ],
      "execution_count": null,
      "outputs": []
    },
    {
      "cell_type": "markdown",
      "metadata": {
        "id": "7aXKBG1wANj3"
      },
      "source": [
        "Mounting Drive"
      ]
    },
    {
      "cell_type": "code",
      "metadata": {
        "id": "5bI6lwO96jYO"
      },
      "source": [
        "drive.mount('/content/drive', force_remount=True)"
      ],
      "execution_count": null,
      "outputs": []
    },
    {
      "cell_type": "markdown",
      "metadata": {
        "id": "7rm0C6PhAP3J"
      },
      "source": [
        "Defining Neural Network Model"
      ]
    },
    {
      "cell_type": "code",
      "metadata": {
        "id": "D8YQqScT6kmn"
      },
      "source": [
        "\"\"\"\n",
        "    Creating a Convolutional Neural Network having 5 Convolution layers and 3 Dense Layers\n",
        "    The Convolution Layers will extract features and pass it on the dense layers\n",
        "\"\"\"\n",
        "def createModel():\n",
        "    model = Sequential()\n",
        "\n",
        "    # 5 layers of convolutions and Max Pooling using 'same' padding and 'ReLu' activation function\n",
        "    model.add(Conv2D(filters=64, kernel_size=5, strides=2, padding='same', activation='relu', input_shape=(128,128,3))) #initial layer receiving input images\n",
        "    model.add(MaxPool2D(pool_size=2, padding='same'))\n",
        "\n",
        "    model.add(Conv2D(filters=64, kernel_size=(5,5), strides=1, padding='same', activation='relu'))\n",
        "    model.add(MaxPool2D(pool_size=(2,2), padding='same'))\n",
        "\n",
        "    model.add(Conv2D(filters=128, kernel_size=(3,3), strides=1, padding='same', activation='relu'))\n",
        "    model.add(MaxPool2D(pool_size=2, padding='same'))\n",
        "\n",
        "    model.add(Conv2D(filters=256, kernel_size=(3,3), strides=1, padding='same', activation='relu'))\n",
        "    model.add(MaxPool2D(pool_size=2, padding='same'))\n",
        "\n",
        "    \n",
        "\n",
        "    model.add(Dropout(0.2)) #Using dropout to avoid overfitting\n",
        "\n",
        "    # The data coming from Conv and Pooling layers will be in shape (nx, ny ,channels) \n",
        "    # so in order to pass it into fully connected (Dense) layers,\n",
        "    # we need to reshape it a single dimensional tensor\n",
        "    # for this purpose we will use Flatten()\n",
        "\n",
        "    model.add(Flatten()) \n",
        "\n",
        "\n",
        "    # Dense layers with L2 regularizer\n",
        "    # L2 regularizer will 'regularize' the weights to avoid overfitting\n",
        "\n",
        "    model.add(Dense(512,kernel_regularizer='l2' ,activation='relu'))\n",
        "\n",
        "    tf.keras.layers.BatchNormalization()\n",
        "    model.add(Dense(128,kernel_regularizer='l2' ,activation='relu'))\n",
        "    model.add(Dropout(0.2))\n",
        "\n",
        "    #Batch normalization to avoid overfitting\n",
        "\n",
        "    tf.keras.layers.BatchNormalization()\n",
        "    model.add(Dropout(rate=0.5))\n",
        "    tf.keras.layers.BatchNormalization()\n",
        "\n",
        "    model.add(Dense(5,kernel_regularizer='l2', activation='softmax'))\n",
        "    \n",
        "    return model"
      ],
      "execution_count": null,
      "outputs": []
    },
    {
      "cell_type": "code",
      "metadata": {
        "id": "SA07McPF7eHP",
        "colab": {
          "base_uri": "https://localhost:8080/",
          "height": 715
        },
        "outputId": "00ba97a4-f79a-4471-f671-484f6596d3bd"
      },
      "source": [
        "model = createModel()\n",
        "model.summary()"
      ],
      "execution_count": null,
      "outputs": [
        {
          "output_type": "stream",
          "text": [
            "Model: \"sequential_6\"\n",
            "_________________________________________________________________\n",
            "Layer (type)                 Output Shape              Param #   \n",
            "=================================================================\n",
            "conv2d_36 (Conv2D)           (None, 64, 64, 64)        4864      \n",
            "_________________________________________________________________\n",
            "max_pooling2d_36 (MaxPooling (None, 32, 32, 64)        0         \n",
            "_________________________________________________________________\n",
            "conv2d_37 (Conv2D)           (None, 32, 32, 64)        102464    \n",
            "_________________________________________________________________\n",
            "max_pooling2d_37 (MaxPooling (None, 16, 16, 64)        0         \n",
            "_________________________________________________________________\n",
            "conv2d_38 (Conv2D)           (None, 16, 16, 128)       73856     \n",
            "_________________________________________________________________\n",
            "max_pooling2d_38 (MaxPooling (None, 8, 8, 128)         0         \n",
            "_________________________________________________________________\n",
            "conv2d_39 (Conv2D)           (None, 8, 8, 256)         295168    \n",
            "_________________________________________________________________\n",
            "max_pooling2d_39 (MaxPooling (None, 4, 4, 256)         0         \n",
            "_________________________________________________________________\n",
            "dropout_18 (Dropout)         (None, 4, 4, 256)         0         \n",
            "_________________________________________________________________\n",
            "flatten_6 (Flatten)          (None, 4096)              0         \n",
            "_________________________________________________________________\n",
            "dense_18 (Dense)             (None, 512)               2097664   \n",
            "_________________________________________________________________\n",
            "dense_19 (Dense)             (None, 128)               65664     \n",
            "_________________________________________________________________\n",
            "dropout_19 (Dropout)         (None, 128)               0         \n",
            "_________________________________________________________________\n",
            "dropout_20 (Dropout)         (None, 128)               0         \n",
            "_________________________________________________________________\n",
            "dense_20 (Dense)             (None, 5)                 645       \n",
            "=================================================================\n",
            "Total params: 2,640,325\n",
            "Trainable params: 2,640,325\n",
            "Non-trainable params: 0\n",
            "_________________________________________________________________\n"
          ],
          "name": "stdout"
        }
      ]
    },
    {
      "cell_type": "markdown",
      "metadata": {
        "id": "IDidc4u5AFS2"
      },
      "source": [
        "Data Preprocessing"
      ]
    },
    {
      "cell_type": "code",
      "metadata": {
        "id": "BJBZZY186wfJ"
      },
      "source": [
        "\"\"\"\n",
        "    Data preprocessing using ImageDataGenerator\n",
        "\"\"\"\n",
        "datagen = tf.keras.preprocessing.image.ImageDataGenerator(\n",
        "        rescale = 1./255, # Data Normalization\n",
        "        validation_split=0.3, #Making a validation set from training data\n",
        "        featurewise_center=False, \n",
        "        samplewise_center=False,  \n",
        "        featurewise_std_normalization=False,  \n",
        "        samplewise_std_normalization=False,  \n",
        "        zca_whitening=False,  \n",
        "        rotation_range=10,  # Rotating data for augmentation\n",
        "        zoom_range = 0.1,  #Zooming from range 0-0.1\n",
        "        width_shift_range=0.2, \n",
        "        height_shift_range=0.2,  \n",
        "        horizontal_flip=True, # Horizontally flipping the data for Augmentation\n",
        "        vertical_flip=False  \n",
        "       )"
      ],
      "execution_count": null,
      "outputs": []
    },
    {
      "cell_type": "markdown",
      "metadata": {
        "id": "pcI8g7VOAWb1"
      },
      "source": [
        "Training & Validation Data"
      ]
    },
    {
      "cell_type": "code",
      "metadata": {
        "id": "zymc9CbS67m8",
        "colab": {
          "base_uri": "https://localhost:8080/",
          "height": 54
        },
        "outputId": "513fc85d-e81b-47f6-f105-4193040d312a"
      },
      "source": [
        "#Training set\n",
        "train_generator = datagen.flow_from_directory(\n",
        "           \n",
        "            '/content/drive/My Drive/newFlowers/TrainData',\n",
        "            target_size = (128,128),\n",
        "            batch_size = 64,\n",
        "            class_mode = 'categorical',\n",
        "            subset=\"training\"\n",
        "            )\n",
        "#Validation set\n",
        "validation_generator = datagen.flow_from_directory(\n",
        "       \n",
        "            '/content/drive/My Drive/newFlowers/TrainData',\n",
        "            target_size = (128,128),\n",
        "            batch_size = 64,\n",
        "            class_mode = 'categorical',\n",
        "            subset=\"validation\"\n",
        "            )\n",
        "    \n",
        "    "
      ],
      "execution_count": null,
      "outputs": [
        {
          "output_type": "stream",
          "text": [
            "Found 2921 images belonging to 5 classes.\n",
            "Found 1248 images belonging to 5 classes.\n"
          ],
          "name": "stdout"
        }
      ]
    },
    {
      "cell_type": "markdown",
      "metadata": {
        "id": "JUYd-chRAZU3"
      },
      "source": [
        "Test Data"
      ]
    },
    {
      "cell_type": "code",
      "metadata": {
        "id": "CoNqX8eP7Ixk",
        "colab": {
          "base_uri": "https://localhost:8080/",
          "height": 35
        },
        "outputId": "742709c1-c3e5-445c-a78d-b71f8debcc40"
      },
      "source": [
        "#Test dataset\n",
        "test_datagen = tf.keras.preprocessing.image.ImageDataGenerator(    \n",
        "        rescale = 1./255,\n",
        "        )\n",
        "\n",
        "test_generator = test_datagen.flow_from_directory(\n",
        "        directory=r\"/content/drive/My Drive/newFlowers/TestData\",\n",
        "        target_size=(128, 128),\n",
        "        color_mode=\"rgb\",\n",
        "        batch_size=8,\n",
        "        class_mode=\"categorical\"\n",
        "\n",
        "    )\n"
      ],
      "execution_count": null,
      "outputs": [
        {
          "output_type": "stream",
          "text": [
            "Found 20 images belonging to 5 classes.\n"
          ],
          "name": "stdout"
        }
      ]
    },
    {
      "cell_type": "code",
      "metadata": {
        "id": "qhP4vIKg8FOh"
      },
      "source": [
        "epoch=180\n",
        "opt = Adam(lr = 0.001)"
      ],
      "execution_count": null,
      "outputs": []
    },
    {
      "cell_type": "code",
      "metadata": {
        "id": "ps2_HeF37NxD",
        "colab": {
          "base_uri": "https://localhost:8080/",
          "height": 1000
        },
        "outputId": "00ebeb19-5bae-4e6f-a289-23b5b6bfbf6d"
      },
      "source": [
        "model = createModel()\n",
        "model.compile(loss='categorical_crossentropy', optimizer=opt, metrics=['accuracy'])\n",
        "hist = model.fit_generator(\n",
        "                     train_generator,\n",
        "                     epochs=epoch,\n",
        "                     shuffle = True,\n",
        "                     validation_data= validation_generator,\n",
        "                     steps_per_epoch = 16,\n",
        "                     verbose = 1\n",
        "                     )\n",
        "\n",
        "\n"
      ],
      "execution_count": null,
      "outputs": [
        {
          "output_type": "stream",
          "text": [
            "Epoch 1/180\n",
            "16/16 [==============================] - 15s 937ms/step - loss: 8.7841 - accuracy: 0.2418 - val_loss: 5.2007 - val_accuracy: 0.3814\n",
            "Epoch 2/180\n",
            "16/16 [==============================] - 14s 904ms/step - loss: 3.6935 - accuracy: 0.3262 - val_loss: 2.6599 - val_accuracy: 0.2732\n",
            "Epoch 3/180\n",
            "16/16 [==============================] - 14s 903ms/step - loss: 2.3600 - accuracy: 0.3584 - val_loss: 1.9981 - val_accuracy: 0.3998\n",
            "Epoch 4/180\n",
            "16/16 [==============================] - 15s 919ms/step - loss: 1.8963 - accuracy: 0.3887 - val_loss: 1.7333 - val_accuracy: 0.3694\n",
            "Epoch 5/180\n",
            "16/16 [==============================] - 14s 906ms/step - loss: 1.6601 - accuracy: 0.3867 - val_loss: 1.5426 - val_accuracy: 0.4014\n",
            "Epoch 6/180\n",
            "16/16 [==============================] - 14s 896ms/step - loss: 1.5556 - accuracy: 0.3623 - val_loss: 1.4908 - val_accuracy: 0.3942\n",
            "Epoch 7/180\n",
            "16/16 [==============================] - 14s 887ms/step - loss: 1.4759 - accuracy: 0.3986 - val_loss: 1.4239 - val_accuracy: 0.4038\n",
            "Epoch 8/180\n",
            "16/16 [==============================] - 14s 896ms/step - loss: 1.4415 - accuracy: 0.3796 - val_loss: 1.3650 - val_accuracy: 0.4367\n",
            "Epoch 9/180\n",
            "16/16 [==============================] - 15s 909ms/step - loss: 1.4102 - accuracy: 0.3996 - val_loss: 1.3889 - val_accuracy: 0.4231\n",
            "Epoch 10/180\n",
            "16/16 [==============================] - 14s 893ms/step - loss: 1.4012 - accuracy: 0.4146 - val_loss: 1.3838 - val_accuracy: 0.4111\n",
            "Epoch 11/180\n",
            "16/16 [==============================] - 14s 895ms/step - loss: 1.4200 - accuracy: 0.4176 - val_loss: 1.3374 - val_accuracy: 0.4183\n",
            "Epoch 12/180\n",
            "16/16 [==============================] - 14s 897ms/step - loss: 1.3505 - accuracy: 0.3945 - val_loss: 1.3088 - val_accuracy: 0.4239\n",
            "Epoch 13/180\n",
            "16/16 [==============================] - 14s 892ms/step - loss: 1.3791 - accuracy: 0.4150 - val_loss: 1.3177 - val_accuracy: 0.4407\n",
            "Epoch 14/180\n",
            "16/16 [==============================] - 14s 899ms/step - loss: 1.3634 - accuracy: 0.4199 - val_loss: 1.3090 - val_accuracy: 0.4207\n",
            "Epoch 15/180\n",
            "16/16 [==============================] - 14s 896ms/step - loss: 1.3532 - accuracy: 0.4326 - val_loss: 1.2699 - val_accuracy: 0.4551\n",
            "Epoch 16/180\n",
            "16/16 [==============================] - 14s 898ms/step - loss: 1.3214 - accuracy: 0.4248 - val_loss: 1.2832 - val_accuracy: 0.4575\n",
            "Epoch 17/180\n",
            "16/16 [==============================] - 15s 925ms/step - loss: 1.3150 - accuracy: 0.4463 - val_loss: 1.2878 - val_accuracy: 0.4455\n",
            "Epoch 18/180\n",
            "16/16 [==============================] - 15s 921ms/step - loss: 1.3046 - accuracy: 0.4434 - val_loss: 1.2534 - val_accuracy: 0.4615\n",
            "Epoch 19/180\n",
            "16/16 [==============================] - 14s 890ms/step - loss: 1.3037 - accuracy: 0.4575 - val_loss: 1.2270 - val_accuracy: 0.4688\n",
            "Epoch 20/180\n",
            "16/16 [==============================] - 14s 898ms/step - loss: 1.2783 - accuracy: 0.4609 - val_loss: 1.2338 - val_accuracy: 0.4824\n",
            "Epoch 21/180\n",
            "16/16 [==============================] - 14s 887ms/step - loss: 1.2617 - accuracy: 0.5075 - val_loss: 1.3212 - val_accuracy: 0.4840\n",
            "Epoch 22/180\n",
            "16/16 [==============================] - 14s 887ms/step - loss: 1.2575 - accuracy: 0.4885 - val_loss: 1.1944 - val_accuracy: 0.4880\n",
            "Epoch 23/180\n",
            "16/16 [==============================] - 14s 883ms/step - loss: 1.2600 - accuracy: 0.4925 - val_loss: 1.2701 - val_accuracy: 0.4848\n",
            "Epoch 24/180\n",
            "16/16 [==============================] - 14s 885ms/step - loss: 1.2384 - accuracy: 0.5165 - val_loss: 1.1758 - val_accuracy: 0.5304\n",
            "Epoch 25/180\n",
            "16/16 [==============================] - 14s 896ms/step - loss: 1.2104 - accuracy: 0.5381 - val_loss: 1.1649 - val_accuracy: 0.5192\n",
            "Epoch 26/180\n",
            "16/16 [==============================] - 15s 909ms/step - loss: 1.2635 - accuracy: 0.5254 - val_loss: 1.1720 - val_accuracy: 0.5096\n",
            "Epoch 27/180\n",
            "16/16 [==============================] - 14s 899ms/step - loss: 1.2205 - accuracy: 0.5254 - val_loss: 1.2577 - val_accuracy: 0.4760\n",
            "Epoch 28/180\n",
            "16/16 [==============================] - 14s 894ms/step - loss: 1.1716 - accuracy: 0.5361 - val_loss: 1.1601 - val_accuracy: 0.5553\n",
            "Epoch 29/180\n",
            "16/16 [==============================] - 14s 906ms/step - loss: 1.1571 - accuracy: 0.5400 - val_loss: 1.1181 - val_accuracy: 0.5321\n",
            "Epoch 30/180\n",
            "16/16 [==============================] - 14s 899ms/step - loss: 1.1646 - accuracy: 0.5361 - val_loss: 1.0884 - val_accuracy: 0.5425\n",
            "Epoch 31/180\n",
            "16/16 [==============================] - 15s 910ms/step - loss: 1.1090 - accuracy: 0.5566 - val_loss: 1.1967 - val_accuracy: 0.4928\n",
            "Epoch 32/180\n",
            "16/16 [==============================] - 14s 883ms/step - loss: 1.1483 - accuracy: 0.5435 - val_loss: 1.0464 - val_accuracy: 0.5938\n",
            "Epoch 33/180\n",
            "16/16 [==============================] - 14s 897ms/step - loss: 1.1354 - accuracy: 0.5664 - val_loss: 1.1058 - val_accuracy: 0.5881\n",
            "Epoch 34/180\n",
            "16/16 [==============================] - 14s 885ms/step - loss: 1.0783 - accuracy: 0.5654 - val_loss: 1.0320 - val_accuracy: 0.5897\n",
            "Epoch 35/180\n",
            "16/16 [==============================] - 14s 891ms/step - loss: 1.1350 - accuracy: 0.5834 - val_loss: 1.0619 - val_accuracy: 0.5978\n",
            "Epoch 36/180\n",
            "16/16 [==============================] - 14s 897ms/step - loss: 1.0603 - accuracy: 0.5996 - val_loss: 1.0128 - val_accuracy: 0.6186\n",
            "Epoch 37/180\n",
            "16/16 [==============================] - 15s 907ms/step - loss: 1.1077 - accuracy: 0.5889 - val_loss: 1.0870 - val_accuracy: 0.6050\n",
            "Epoch 38/180\n",
            "16/16 [==============================] - 15s 910ms/step - loss: 1.0815 - accuracy: 0.5781 - val_loss: 0.9941 - val_accuracy: 0.6386\n",
            "Epoch 39/180\n",
            "16/16 [==============================] - 15s 920ms/step - loss: 1.0472 - accuracy: 0.6025 - val_loss: 1.0155 - val_accuracy: 0.6210\n",
            "Epoch 40/180\n",
            "16/16 [==============================] - 14s 892ms/step - loss: 1.0730 - accuracy: 0.6004 - val_loss: 1.0130 - val_accuracy: 0.6362\n",
            "Epoch 41/180\n",
            "16/16 [==============================] - 14s 887ms/step - loss: 1.0232 - accuracy: 0.6044 - val_loss: 0.9897 - val_accuracy: 0.6482\n",
            "Epoch 42/180\n",
            "16/16 [==============================] - 15s 908ms/step - loss: 1.0635 - accuracy: 0.6123 - val_loss: 1.0021 - val_accuracy: 0.6450\n",
            "Epoch 43/180\n",
            "16/16 [==============================] - 14s 893ms/step - loss: 1.0267 - accuracy: 0.6201 - val_loss: 1.0517 - val_accuracy: 0.6170\n",
            "Epoch 44/180\n",
            "16/16 [==============================] - 14s 893ms/step - loss: 1.0458 - accuracy: 0.6123 - val_loss: 1.0857 - val_accuracy: 0.5946\n",
            "Epoch 45/180\n",
            "16/16 [==============================] - 14s 897ms/step - loss: 1.0957 - accuracy: 0.5625 - val_loss: 1.0483 - val_accuracy: 0.6090\n",
            "Epoch 46/180\n",
            "16/16 [==============================] - 14s 898ms/step - loss: 1.0231 - accuracy: 0.6084 - val_loss: 1.0277 - val_accuracy: 0.6202\n",
            "Epoch 47/180\n",
            "16/16 [==============================] - 14s 900ms/step - loss: 0.9992 - accuracy: 0.6406 - val_loss: 0.9853 - val_accuracy: 0.6410\n",
            "Epoch 48/180\n",
            "16/16 [==============================] - 14s 901ms/step - loss: 0.9878 - accuracy: 0.6475 - val_loss: 0.9746 - val_accuracy: 0.6554\n",
            "Epoch 49/180\n",
            "16/16 [==============================] - 14s 890ms/step - loss: 0.9898 - accuracy: 0.6234 - val_loss: 1.0158 - val_accuracy: 0.6554\n",
            "Epoch 50/180\n",
            "16/16 [==============================] - 15s 911ms/step - loss: 0.9813 - accuracy: 0.6562 - val_loss: 1.0602 - val_accuracy: 0.6242\n",
            "Epoch 51/180\n",
            "16/16 [==============================] - 14s 899ms/step - loss: 1.0032 - accuracy: 0.6504 - val_loss: 0.9683 - val_accuracy: 0.6731\n",
            "Epoch 52/180\n",
            "16/16 [==============================] - 14s 896ms/step - loss: 0.9498 - accuracy: 0.6719 - val_loss: 0.9438 - val_accuracy: 0.6707\n",
            "Epoch 53/180\n",
            "16/16 [==============================] - 14s 904ms/step - loss: 0.9279 - accuracy: 0.6719 - val_loss: 1.0062 - val_accuracy: 0.6378\n",
            "Epoch 54/180\n",
            "16/16 [==============================] - 14s 890ms/step - loss: 1.0112 - accuracy: 0.6204 - val_loss: 0.9632 - val_accuracy: 0.6627\n",
            "Epoch 55/180\n",
            "16/16 [==============================] - 14s 894ms/step - loss: 0.9980 - accuracy: 0.6416 - val_loss: 0.9472 - val_accuracy: 0.6603\n",
            "Epoch 56/180\n",
            "16/16 [==============================] - 14s 902ms/step - loss: 0.9767 - accuracy: 0.6494 - val_loss: 0.9296 - val_accuracy: 0.6723\n",
            "Epoch 57/180\n",
            "16/16 [==============================] - 14s 896ms/step - loss: 0.9558 - accuracy: 0.6865 - val_loss: 0.9726 - val_accuracy: 0.6546\n",
            "Epoch 58/180\n",
            "16/16 [==============================] - 15s 907ms/step - loss: 0.9208 - accuracy: 0.6719 - val_loss: 0.9072 - val_accuracy: 0.6835\n",
            "Epoch 59/180\n",
            "16/16 [==============================] - 15s 912ms/step - loss: 0.9306 - accuracy: 0.6846 - val_loss: 0.9626 - val_accuracy: 0.6835\n",
            "Epoch 60/180\n",
            "16/16 [==============================] - 15s 919ms/step - loss: 0.8792 - accuracy: 0.6885 - val_loss: 0.9698 - val_accuracy: 0.6667\n",
            "Epoch 61/180\n",
            "16/16 [==============================] - 14s 898ms/step - loss: 0.9095 - accuracy: 0.7012 - val_loss: 0.9221 - val_accuracy: 0.6963\n",
            "Epoch 62/180\n",
            "16/16 [==============================] - 14s 886ms/step - loss: 0.8823 - accuracy: 0.6983 - val_loss: 0.9435 - val_accuracy: 0.6643\n",
            "Epoch 63/180\n",
            "16/16 [==============================] - 14s 902ms/step - loss: 0.9199 - accuracy: 0.6738 - val_loss: 0.9199 - val_accuracy: 0.6859\n",
            "Epoch 64/180\n",
            "16/16 [==============================] - 15s 917ms/step - loss: 0.8936 - accuracy: 0.7002 - val_loss: 0.8837 - val_accuracy: 0.6931\n",
            "Epoch 65/180\n",
            "16/16 [==============================] - 14s 900ms/step - loss: 0.8346 - accuracy: 0.7123 - val_loss: 0.8909 - val_accuracy: 0.6883\n",
            "Epoch 66/180\n",
            "16/16 [==============================] - 14s 903ms/step - loss: 0.9095 - accuracy: 0.6777 - val_loss: 0.8739 - val_accuracy: 0.7131\n",
            "Epoch 67/180\n",
            "16/16 [==============================] - 14s 896ms/step - loss: 0.8523 - accuracy: 0.7256 - val_loss: 0.9154 - val_accuracy: 0.7035\n",
            "Epoch 68/180\n",
            "16/16 [==============================] - 14s 905ms/step - loss: 0.9103 - accuracy: 0.6826 - val_loss: 0.8686 - val_accuracy: 0.7139\n",
            "Epoch 69/180\n",
            "16/16 [==============================] - 15s 914ms/step - loss: 0.9020 - accuracy: 0.6982 - val_loss: 0.8728 - val_accuracy: 0.7147\n",
            "Epoch 70/180\n",
            "16/16 [==============================] - 15s 911ms/step - loss: 0.9394 - accuracy: 0.6768 - val_loss: 0.9274 - val_accuracy: 0.6987\n",
            "Epoch 71/180\n",
            "16/16 [==============================] - 14s 892ms/step - loss: 0.8562 - accuracy: 0.7083 - val_loss: 0.8690 - val_accuracy: 0.7147\n",
            "Epoch 72/180\n",
            "16/16 [==============================] - 14s 900ms/step - loss: 0.8770 - accuracy: 0.7295 - val_loss: 0.8684 - val_accuracy: 0.7276\n",
            "Epoch 73/180\n",
            "16/16 [==============================] - 14s 902ms/step - loss: 0.8330 - accuracy: 0.7217 - val_loss: 0.8994 - val_accuracy: 0.6923\n",
            "Epoch 74/180\n",
            "16/16 [==============================] - 14s 904ms/step - loss: 0.8976 - accuracy: 0.6924 - val_loss: 0.8767 - val_accuracy: 0.7163\n",
            "Epoch 75/180\n",
            "16/16 [==============================] - 14s 897ms/step - loss: 0.8500 - accuracy: 0.7090 - val_loss: 0.9182 - val_accuracy: 0.6915\n",
            "Epoch 76/180\n",
            "16/16 [==============================] - 14s 901ms/step - loss: 0.8485 - accuracy: 0.7129 - val_loss: 0.8668 - val_accuracy: 0.7027\n",
            "Epoch 77/180\n",
            "16/16 [==============================] - 14s 898ms/step - loss: 0.8330 - accuracy: 0.7188 - val_loss: 0.8686 - val_accuracy: 0.7332\n",
            "Epoch 78/180\n",
            "16/16 [==============================] - 14s 902ms/step - loss: 0.8277 - accuracy: 0.7334 - val_loss: 0.9341 - val_accuracy: 0.6811\n",
            "Epoch 79/180\n",
            "16/16 [==============================] - 14s 887ms/step - loss: 0.8058 - accuracy: 0.7353 - val_loss: 0.8742 - val_accuracy: 0.7051\n",
            "Epoch 80/180\n",
            "16/16 [==============================] - 15s 922ms/step - loss: 0.8111 - accuracy: 0.7273 - val_loss: 0.8545 - val_accuracy: 0.7043\n",
            "Epoch 81/180\n",
            "16/16 [==============================] - 15s 916ms/step - loss: 0.8169 - accuracy: 0.7373 - val_loss: 0.9525 - val_accuracy: 0.6627\n",
            "Epoch 82/180\n",
            "16/16 [==============================] - 14s 901ms/step - loss: 0.8563 - accuracy: 0.7129 - val_loss: 0.8491 - val_accuracy: 0.7196\n",
            "Epoch 83/180\n",
            "16/16 [==============================] - 14s 887ms/step - loss: 0.8129 - accuracy: 0.7263 - val_loss: 0.8240 - val_accuracy: 0.7276\n",
            "Epoch 84/180\n",
            "16/16 [==============================] - 14s 901ms/step - loss: 0.8220 - accuracy: 0.7383 - val_loss: 0.8955 - val_accuracy: 0.6707\n",
            "Epoch 85/180\n",
            "16/16 [==============================] - 14s 903ms/step - loss: 0.8283 - accuracy: 0.7295 - val_loss: 0.8351 - val_accuracy: 0.7204\n",
            "Epoch 86/180\n",
            "16/16 [==============================] - 14s 898ms/step - loss: 0.7731 - accuracy: 0.7500 - val_loss: 0.9046 - val_accuracy: 0.6643\n",
            "Epoch 87/180\n",
            "16/16 [==============================] - 14s 897ms/step - loss: 0.7828 - accuracy: 0.7266 - val_loss: 0.8092 - val_accuracy: 0.7308\n",
            "Epoch 88/180\n",
            "16/16 [==============================] - 14s 891ms/step - loss: 0.7182 - accuracy: 0.7652 - val_loss: 0.8234 - val_accuracy: 0.7276\n",
            "Epoch 89/180\n",
            "16/16 [==============================] - 14s 890ms/step - loss: 0.7198 - accuracy: 0.7742 - val_loss: 0.8125 - val_accuracy: 0.7276\n",
            "Epoch 90/180\n",
            "16/16 [==============================] - 14s 891ms/step - loss: 0.7453 - accuracy: 0.7483 - val_loss: 0.8710 - val_accuracy: 0.7067\n",
            "Epoch 91/180\n",
            "16/16 [==============================] - 15s 922ms/step - loss: 0.7377 - accuracy: 0.7510 - val_loss: 0.7983 - val_accuracy: 0.7380\n",
            "Epoch 92/180\n",
            "16/16 [==============================] - 14s 899ms/step - loss: 0.7117 - accuracy: 0.7578 - val_loss: 0.8471 - val_accuracy: 0.7356\n",
            "Epoch 93/180\n",
            "16/16 [==============================] - 14s 904ms/step - loss: 0.7695 - accuracy: 0.7617 - val_loss: 0.9009 - val_accuracy: 0.7236\n",
            "Epoch 94/180\n",
            "16/16 [==============================] - 14s 905ms/step - loss: 0.7340 - accuracy: 0.7702 - val_loss: 0.8706 - val_accuracy: 0.7188\n",
            "Epoch 95/180\n",
            "16/16 [==============================] - 15s 917ms/step - loss: 0.7790 - accuracy: 0.7627 - val_loss: 0.7899 - val_accuracy: 0.7284\n",
            "Epoch 96/180\n",
            "16/16 [==============================] - 14s 901ms/step - loss: 0.7354 - accuracy: 0.7622 - val_loss: 0.8284 - val_accuracy: 0.7364\n",
            "Epoch 97/180\n",
            "16/16 [==============================] - 14s 901ms/step - loss: 0.7705 - accuracy: 0.7602 - val_loss: 0.8352 - val_accuracy: 0.7348\n",
            "Epoch 98/180\n",
            "16/16 [==============================] - 14s 890ms/step - loss: 0.7230 - accuracy: 0.7682 - val_loss: 0.8501 - val_accuracy: 0.7460\n",
            "Epoch 99/180\n",
            "16/16 [==============================] - 14s 895ms/step - loss: 0.7281 - accuracy: 0.7539 - val_loss: 0.8177 - val_accuracy: 0.7276\n",
            "Epoch 100/180\n",
            "16/16 [==============================] - 14s 894ms/step - loss: 0.7028 - accuracy: 0.7705 - val_loss: 0.9080 - val_accuracy: 0.7139\n",
            "Epoch 101/180\n",
            "16/16 [==============================] - 15s 922ms/step - loss: 0.8659 - accuracy: 0.7143 - val_loss: 0.8662 - val_accuracy: 0.7059\n",
            "Epoch 102/180\n",
            "16/16 [==============================] - 15s 914ms/step - loss: 0.7631 - accuracy: 0.7451 - val_loss: 0.8103 - val_accuracy: 0.7348\n",
            "Epoch 103/180\n",
            "16/16 [==============================] - 14s 898ms/step - loss: 0.6669 - accuracy: 0.7881 - val_loss: 0.8278 - val_accuracy: 0.7356\n",
            "Epoch 104/180\n",
            "16/16 [==============================] - 14s 898ms/step - loss: 0.7251 - accuracy: 0.7656 - val_loss: 0.8674 - val_accuracy: 0.7131\n",
            "Epoch 105/180\n",
            "16/16 [==============================] - 14s 892ms/step - loss: 0.6745 - accuracy: 0.7822 - val_loss: 0.8562 - val_accuracy: 0.7107\n",
            "Epoch 106/180\n",
            "16/16 [==============================] - 14s 894ms/step - loss: 0.6923 - accuracy: 0.7773 - val_loss: 0.8207 - val_accuracy: 0.7372\n",
            "Epoch 107/180\n",
            "16/16 [==============================] - 14s 898ms/step - loss: 0.6526 - accuracy: 0.7852 - val_loss: 0.8090 - val_accuracy: 0.7548\n",
            "Epoch 108/180\n",
            "16/16 [==============================] - 14s 893ms/step - loss: 0.6685 - accuracy: 0.7969 - val_loss: 0.7867 - val_accuracy: 0.7420\n",
            "Epoch 109/180\n",
            "16/16 [==============================] - 14s 894ms/step - loss: 0.6918 - accuracy: 0.7692 - val_loss: 0.8966 - val_accuracy: 0.7147\n",
            "Epoch 110/180\n",
            "16/16 [==============================] - 14s 885ms/step - loss: 0.7549 - accuracy: 0.7752 - val_loss: 0.8627 - val_accuracy: 0.7139\n",
            "Epoch 111/180\n",
            "16/16 [==============================] - 15s 910ms/step - loss: 0.7197 - accuracy: 0.7742 - val_loss: 0.8107 - val_accuracy: 0.7244\n",
            "Epoch 112/180\n",
            "16/16 [==============================] - 15s 913ms/step - loss: 0.6643 - accuracy: 0.7734 - val_loss: 0.8147 - val_accuracy: 0.7420\n",
            "Epoch 113/180\n",
            "16/16 [==============================] - 15s 910ms/step - loss: 0.6564 - accuracy: 0.7754 - val_loss: 0.7844 - val_accuracy: 0.7548\n",
            "Epoch 114/180\n",
            "16/16 [==============================] - 14s 898ms/step - loss: 0.6769 - accuracy: 0.7871 - val_loss: 0.7653 - val_accuracy: 0.7340\n",
            "Epoch 115/180\n",
            "16/16 [==============================] - 14s 896ms/step - loss: 0.6326 - accuracy: 0.8105 - val_loss: 0.7852 - val_accuracy: 0.7460\n",
            "Epoch 116/180\n",
            "16/16 [==============================] - 14s 898ms/step - loss: 0.6335 - accuracy: 0.7949 - val_loss: 0.7572 - val_accuracy: 0.7588\n",
            "Epoch 117/180\n",
            "16/16 [==============================] - 14s 904ms/step - loss: 0.6486 - accuracy: 0.7939 - val_loss: 0.7905 - val_accuracy: 0.7420\n",
            "Epoch 118/180\n",
            "16/16 [==============================] - 14s 904ms/step - loss: 0.7111 - accuracy: 0.7695 - val_loss: 0.8663 - val_accuracy: 0.7212\n",
            "Epoch 119/180\n",
            "16/16 [==============================] - 14s 888ms/step - loss: 0.7107 - accuracy: 0.7792 - val_loss: 0.7690 - val_accuracy: 0.7492\n",
            "Epoch 120/180\n",
            "16/16 [==============================] - 14s 892ms/step - loss: 0.6825 - accuracy: 0.7862 - val_loss: 0.7716 - val_accuracy: 0.7580\n",
            "Epoch 121/180\n",
            "16/16 [==============================] - 14s 904ms/step - loss: 0.6399 - accuracy: 0.7891 - val_loss: 0.7539 - val_accuracy: 0.7564\n",
            "Epoch 122/180\n",
            "16/16 [==============================] - 15s 927ms/step - loss: 0.6516 - accuracy: 0.7822 - val_loss: 0.7409 - val_accuracy: 0.7684\n",
            "Epoch 123/180\n",
            "16/16 [==============================] - 15s 912ms/step - loss: 0.6241 - accuracy: 0.7930 - val_loss: 0.7913 - val_accuracy: 0.7532\n",
            "Epoch 124/180\n",
            "16/16 [==============================] - 15s 910ms/step - loss: 0.6350 - accuracy: 0.8062 - val_loss: 0.7902 - val_accuracy: 0.7244\n",
            "Epoch 125/180\n",
            "16/16 [==============================] - 15s 910ms/step - loss: 0.6198 - accuracy: 0.8115 - val_loss: 0.7631 - val_accuracy: 0.7580\n",
            "Epoch 126/180\n",
            "16/16 [==============================] - 14s 890ms/step - loss: 0.6342 - accuracy: 0.7992 - val_loss: 0.7239 - val_accuracy: 0.7564\n",
            "Epoch 127/180\n",
            "16/16 [==============================] - 14s 896ms/step - loss: 0.6551 - accuracy: 0.7773 - val_loss: 0.7705 - val_accuracy: 0.7580\n",
            "Epoch 128/180\n",
            "16/16 [==============================] - 14s 893ms/step - loss: 0.6346 - accuracy: 0.8032 - val_loss: 0.7522 - val_accuracy: 0.7556\n",
            "Epoch 129/180\n",
            "16/16 [==============================] - 14s 897ms/step - loss: 0.6499 - accuracy: 0.7912 - val_loss: 0.8511 - val_accuracy: 0.7340\n",
            "Epoch 130/180\n",
            "16/16 [==============================] - 14s 892ms/step - loss: 0.6641 - accuracy: 0.7881 - val_loss: 0.7908 - val_accuracy: 0.7428\n",
            "Epoch 131/180\n",
            "16/16 [==============================] - 14s 895ms/step - loss: 0.6316 - accuracy: 0.8037 - val_loss: 0.7765 - val_accuracy: 0.7492\n",
            "Epoch 132/180\n",
            "16/16 [==============================] - 15s 913ms/step - loss: 0.5657 - accuracy: 0.8281 - val_loss: 0.7480 - val_accuracy: 0.7796\n",
            "Epoch 133/180\n",
            "16/16 [==============================] - 14s 898ms/step - loss: 0.6007 - accuracy: 0.8135 - val_loss: 0.7973 - val_accuracy: 0.7548\n",
            "Epoch 134/180\n",
            "16/16 [==============================] - 15s 913ms/step - loss: 0.6255 - accuracy: 0.8213 - val_loss: 0.7111 - val_accuracy: 0.7812\n",
            "Epoch 135/180\n",
            "16/16 [==============================] - 14s 898ms/step - loss: 0.6252 - accuracy: 0.7949 - val_loss: 0.7794 - val_accuracy: 0.7556\n",
            "Epoch 136/180\n",
            "16/16 [==============================] - 14s 897ms/step - loss: 0.5642 - accuracy: 0.8282 - val_loss: 0.7585 - val_accuracy: 0.7708\n",
            "Epoch 137/180\n",
            "16/16 [==============================] - 14s 886ms/step - loss: 0.5977 - accuracy: 0.8082 - val_loss: 0.7461 - val_accuracy: 0.7636\n",
            "Epoch 138/180\n",
            "16/16 [==============================] - 14s 884ms/step - loss: 0.5891 - accuracy: 0.8102 - val_loss: 0.7836 - val_accuracy: 0.7396\n",
            "Epoch 139/180\n",
            "16/16 [==============================] - 14s 901ms/step - loss: 0.6398 - accuracy: 0.7922 - val_loss: 0.8022 - val_accuracy: 0.7412\n",
            "Epoch 140/180\n",
            "16/16 [==============================] - 14s 892ms/step - loss: 0.6249 - accuracy: 0.8112 - val_loss: 0.7776 - val_accuracy: 0.7388\n",
            "Epoch 141/180\n",
            "16/16 [==============================] - 14s 904ms/step - loss: 0.6159 - accuracy: 0.8135 - val_loss: 0.7413 - val_accuracy: 0.7644\n",
            "Epoch 142/180\n",
            "16/16 [==============================] - 14s 889ms/step - loss: 0.5618 - accuracy: 0.8212 - val_loss: 0.8640 - val_accuracy: 0.7364\n",
            "Epoch 143/180\n",
            "16/16 [==============================] - 15s 935ms/step - loss: 0.6179 - accuracy: 0.8135 - val_loss: 0.7656 - val_accuracy: 0.7540\n",
            "Epoch 144/180\n",
            "16/16 [==============================] - 14s 897ms/step - loss: 0.5804 - accuracy: 0.8282 - val_loss: 0.9096 - val_accuracy: 0.7324\n",
            "Epoch 145/180\n",
            "16/16 [==============================] - 14s 897ms/step - loss: 0.5948 - accuracy: 0.8135 - val_loss: 0.8263 - val_accuracy: 0.7348\n",
            "Epoch 146/180\n",
            "16/16 [==============================] - 14s 896ms/step - loss: 0.5976 - accuracy: 0.8193 - val_loss: 0.7535 - val_accuracy: 0.7676\n",
            "Epoch 147/180\n",
            "16/16 [==============================] - 14s 895ms/step - loss: 0.5130 - accuracy: 0.8501 - val_loss: 0.7521 - val_accuracy: 0.7564\n",
            "Epoch 148/180\n",
            "16/16 [==============================] - 14s 900ms/step - loss: 0.5722 - accuracy: 0.8232 - val_loss: 0.8345 - val_accuracy: 0.7540\n",
            "Epoch 149/180\n",
            "16/16 [==============================] - 14s 886ms/step - loss: 0.5782 - accuracy: 0.8382 - val_loss: 0.8205 - val_accuracy: 0.7420\n",
            "Epoch 150/180\n",
            "16/16 [==============================] - 14s 897ms/step - loss: 0.5652 - accuracy: 0.8222 - val_loss: 0.7494 - val_accuracy: 0.7692\n",
            "Epoch 151/180\n",
            "16/16 [==============================] - 14s 893ms/step - loss: 0.5610 - accuracy: 0.8162 - val_loss: 0.8000 - val_accuracy: 0.7548\n",
            "Epoch 152/180\n",
            "16/16 [==============================] - 14s 904ms/step - loss: 0.5484 - accuracy: 0.8281 - val_loss: 0.7962 - val_accuracy: 0.7636\n",
            "Epoch 153/180\n",
            "16/16 [==============================] - 14s 902ms/step - loss: 0.5350 - accuracy: 0.8511 - val_loss: 0.8078 - val_accuracy: 0.7716\n",
            "Epoch 154/180\n",
            "16/16 [==============================] - 14s 895ms/step - loss: 0.5584 - accuracy: 0.8192 - val_loss: 0.7909 - val_accuracy: 0.7660\n",
            "Epoch 155/180\n",
            "16/16 [==============================] - 14s 898ms/step - loss: 0.5081 - accuracy: 0.8525 - val_loss: 0.7708 - val_accuracy: 0.7788\n",
            "Epoch 156/180\n",
            "16/16 [==============================] - 15s 920ms/step - loss: 0.5517 - accuracy: 0.8262 - val_loss: 0.7521 - val_accuracy: 0.7708\n",
            "Epoch 157/180\n",
            "16/16 [==============================] - 14s 904ms/step - loss: 0.5404 - accuracy: 0.8281 - val_loss: 0.8539 - val_accuracy: 0.7396\n",
            "Epoch 158/180\n",
            "16/16 [==============================] - 15s 909ms/step - loss: 0.5746 - accuracy: 0.8154 - val_loss: 0.7440 - val_accuracy: 0.7612\n",
            "Epoch 159/180\n",
            "16/16 [==============================] - 15s 911ms/step - loss: 0.5259 - accuracy: 0.8467 - val_loss: 0.7371 - val_accuracy: 0.7748\n",
            "Epoch 160/180\n",
            "16/16 [==============================] - 14s 905ms/step - loss: 0.5310 - accuracy: 0.8467 - val_loss: 0.8196 - val_accuracy: 0.7572\n",
            "Epoch 161/180\n",
            "16/16 [==============================] - 15s 917ms/step - loss: 0.5717 - accuracy: 0.8096 - val_loss: 0.7965 - val_accuracy: 0.7388\n",
            "Epoch 162/180\n",
            "16/16 [==============================] - 15s 909ms/step - loss: 0.5877 - accuracy: 0.8096 - val_loss: 0.7565 - val_accuracy: 0.7780\n",
            "Epoch 163/180\n",
            "16/16 [==============================] - 14s 906ms/step - loss: 0.5595 - accuracy: 0.8291 - val_loss: 0.8337 - val_accuracy: 0.7428\n",
            "Epoch 164/180\n",
            "16/16 [==============================] - 15s 942ms/step - loss: 0.5537 - accuracy: 0.8379 - val_loss: 0.7123 - val_accuracy: 0.7748\n",
            "Epoch 165/180\n",
            "16/16 [==============================] - 15s 907ms/step - loss: 0.5981 - accuracy: 0.8027 - val_loss: 0.7464 - val_accuracy: 0.7788\n",
            "Epoch 166/180\n",
            "16/16 [==============================] - 14s 905ms/step - loss: 0.5265 - accuracy: 0.8447 - val_loss: 0.7600 - val_accuracy: 0.7716\n",
            "Epoch 167/180\n",
            "16/16 [==============================] - 15s 915ms/step - loss: 0.5121 - accuracy: 0.8379 - val_loss: 0.7770 - val_accuracy: 0.7556\n",
            "Epoch 168/180\n",
            "16/16 [==============================] - 14s 905ms/step - loss: 0.5916 - accuracy: 0.8193 - val_loss: 0.7942 - val_accuracy: 0.7508\n",
            "Epoch 169/180\n",
            "16/16 [==============================] - 14s 891ms/step - loss: 0.5735 - accuracy: 0.8182 - val_loss: 0.7623 - val_accuracy: 0.7804\n",
            "Epoch 170/180\n",
            "16/16 [==============================] - 14s 900ms/step - loss: 0.5727 - accuracy: 0.8291 - val_loss: 0.7229 - val_accuracy: 0.7885\n",
            "Epoch 171/180\n",
            "16/16 [==============================] - 14s 904ms/step - loss: 0.5194 - accuracy: 0.8438 - val_loss: 0.8060 - val_accuracy: 0.7428\n",
            "Epoch 172/180\n",
            "16/16 [==============================] - 15s 914ms/step - loss: 0.5127 - accuracy: 0.8447 - val_loss: 0.8484 - val_accuracy: 0.7508\n",
            "Epoch 173/180\n",
            "16/16 [==============================] - 15s 912ms/step - loss: 0.5254 - accuracy: 0.8398 - val_loss: 0.7814 - val_accuracy: 0.7724\n",
            "Epoch 174/180\n",
            "16/16 [==============================] - 14s 891ms/step - loss: 0.5535 - accuracy: 0.8467 - val_loss: 0.7600 - val_accuracy: 0.7660\n",
            "Epoch 175/180\n",
            "16/16 [==============================] - 14s 895ms/step - loss: 0.5282 - accuracy: 0.8332 - val_loss: 0.7751 - val_accuracy: 0.7620\n",
            "Epoch 176/180\n",
            "16/16 [==============================] - 15s 909ms/step - loss: 0.4904 - accuracy: 0.8516 - val_loss: 0.8239 - val_accuracy: 0.7572\n",
            "Epoch 177/180\n",
            "16/16 [==============================] - 15s 912ms/step - loss: 0.5167 - accuracy: 0.8418 - val_loss: 0.8626 - val_accuracy: 0.7460\n",
            "Epoch 178/180\n",
            "16/16 [==============================] - 14s 904ms/step - loss: 0.5284 - accuracy: 0.8379 - val_loss: 0.7610 - val_accuracy: 0.7460\n",
            "Epoch 179/180\n",
            "16/16 [==============================] - 14s 883ms/step - loss: 0.5061 - accuracy: 0.8452 - val_loss: 0.7802 - val_accuracy: 0.7628\n",
            "Epoch 180/180\n",
            "16/16 [==============================] - 15s 908ms/step - loss: 0.4878 - accuracy: 0.8535 - val_loss: 0.7863 - val_accuracy: 0.7780\n"
          ],
          "name": "stdout"
        }
      ]
    },
    {
      "cell_type": "code",
      "metadata": {
        "id": "VRzSw1b4P1Qy"
      },
      "source": [
        "model.evaluate_generator(generator=test_generator, verbose = 1)"
      ],
      "execution_count": null,
      "outputs": []
    },
    {
      "cell_type": "code",
      "metadata": {
        "id": "aCp87qF78BCq",
        "colab": {
          "base_uri": "https://localhost:8080/",
          "height": 573
        },
        "outputId": "3ec6498a-1f11-44d1-fa01-b7bffbfebed8"
      },
      "source": [
        "plt.plot(hist.history['accuracy'])\n",
        "plt.plot(hist.history['val_accuracy'])\n",
        "plt.title('model accuracy')\n",
        "plt.ylabel('accuracy')\n",
        "plt.xlabel('epoch')\n",
        "plt.legend(['train', 'validation'], loc='upper left')\n",
        "plt.show()\n",
        "\n",
        "# summarize history for loss\n",
        "plt.plot(hist.history['loss'])\n",
        "plt.plot(hist.history['val_loss'])\n",
        "plt.title('model loss')\n",
        "plt.ylabel('loss')\n",
        "plt.xlabel('epoch')\n",
        "plt.legend(['train', 'validation'], loc='upper left')\n",
        "plt.show()"
      ],
      "execution_count": null,
      "outputs": [
        {
          "output_type": "display_data",
          "data": {
            "image/png": "[encoded data removed]",
            "text/plain": [
              "<Figure size 432x288 with 1 Axes>"
            ]
          },
          "metadata": {
            "tags": [],
            "needs_background": "light"
          }
        },
        {
          "output_type": "display_data",
          "data": {
            "image/png": "[encoded data removed]",
            "text/plain": [
              "<Figure size 432x288 with 1 Axes>"
            ]
          },
          "metadata": {
            "tags": [],
            "needs_background": "light"
          }
        }
      ]
    },
    {
      "cell_type": "markdown",
      "metadata": {
        "id": "tOa6q1ull-tZ"
      },
      "source": [
        "Let's now take a look at actually running a prediction using the model. This code will allow you to choose 1 or more files from your file system, it will then upload them, and run them through the model, classifying the flower"
      ]
    },
    {
      "cell_type": "code",
      "metadata": {
        "id": "csoQJA4gHQoZ",
        "colab": {
          "resources": {
            "http://localhost:8080/nbextensions/google.colab/files.js": {
              "data": "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",
              "ok": true,
              "headers": [
                [
                  "content-type",
                  "application/javascript"
                ]
              ],
              "status": 200,
              "status_text": "OK"
            }
          },
          "base_uri": "https://localhost:8080/",
          "height": 111
        },
        "outputId": "2ee442ed-fb3f-4e84-8d7c-4a11c33de968"
      },
      "source": [
        "import numpy as np\n",
        "from google.colab import files\n",
        "from keras.preprocessing import image\n",
        "\n",
        "uploaded = files.upload()\n",
        "\n",
        "for fn in uploaded.keys():\n",
        " \n",
        "  # predicting images\n",
        "  path = '/content/' + fn\n",
        "  img = image.load_img(path, target_size=(128, 128))\n",
        "  x = image.img_to_array(img)\n",
        "  x = np.expand_dims(x, axis=0)\n",
        "\n",
        "  images = np.vstack([x])\n",
        "  classes = model.predict(images, batch_size=10)\n",
        "  print(classes[0])\n",
        "  if classes[0][0]>0:\n",
        "    print(fn + \" is a tulip\")\n",
        "  elif classes[0][1]>0:\n",
        "    print(fn + \" is a sunflower\")\n",
        "  elif classes[0][2]>0:\n",
        "    print(fn + \" is a rose\")\n",
        "  elif classes[0][3]>0:\n",
        "    print(fn + \" is a dandelion\")\n",
        "  else:\n",
        "    print(fn + \" is a daisy\")\n",
        " \n"
      ],
      "execution_count": null,
      "outputs": [
        {
          "output_type": "display_data",
          "data": {
            "text/html": [
              "\n",
              "     <input type=\"file\" id=\"files-11bea0b9-5a75-4c35-9162-5511ebf8b5b7\" name=\"files[]\" multiple disabled\n",
              "        style=\"border:none\" />\n",
              "     <output id=\"result-11bea0b9-5a75-4c35-9162-5511ebf8b5b7\">\n",
              "      Upload widget is only available when the cell has been executed in the\n",
              "      current browser session. Please rerun this cell to enable.\n",
              "      </output>\n",
              "      <script src=\"/nbextensions/google.colab/files.js\"></script> "
            ],
            "text/plain": [
              "<IPython.core.display.HTML object>"
            ]
          },
          "metadata": {
            "tags": []
          }
        },
        {
          "output_type": "stream",
          "text": [
            "Saving 21134000558_d7d6c9b1fe_n.jpg to 21134000558_d7d6c9b1fe_n.jpg\n",
            "[0. 0. 0. 1. 0.]\n",
            "21134000558_d7d6c9b1fe_n.jpg is a dandelion\n"
          ],
          "name": "stdout"
        }
      ]
    },
    {
      "cell_type": "code",
      "metadata": {
        "id": "buuiS47WwOjw"
      },
      "source": [
        ""
      ],
      "execution_count": null,
      "outputs": []
    }
  ]
}